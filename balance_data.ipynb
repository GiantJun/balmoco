{
 "cells": [
  {
   "cell_type": "code",
   "execution_count": 1,
   "metadata": {},
   "outputs": [],
   "source": [
    "from os.path import join, dirname, basename\n",
    "from os import environ\n",
    "import pandas as pd\n",
    "import numpy as np"
   ]
  },
  {
   "cell_type": "code",
   "execution_count": 3,
   "metadata": {},
   "outputs": [],
   "source": [
    "def read_process_csv(csv_path):\n",
    "    base_dir = dirname(csv_path)\n",
    "    if 'doctor' in basename(base_dir):\n",
    "        data_dir = join(base_dir, 'data')\n",
    "    else:\n",
    "        data_dir = join(base_dir, 'cleaned_data')\n",
    "    data_frame = pd.read_csv(csv_path)\n",
    "    data = [join(data_dir, name) for name in data_frame['Image_name:'].to_list()]\n",
    "    targets = data_frame['Label:'].to_list()\n",
    "    return data, targets"
   ]
  },
  {
   "cell_type": "code",
   "execution_count": 4,
   "metadata": {},
   "outputs": [],
   "source": [
    "data, target = [], []\n",
    "idata, itarget = read_process_csv(join(environ[\"DLDATASET_TRAIN\"], 'Original_train_dataset/label.csv'))\n",
    "data.extend(idata)\n",
    "target.extend(itarget)\n",
    "idata, itarget = read_process_csv(join(environ[\"DLDATASET_TRAIN\"], 'MobilePhone_train_dataset/doctor_A/label.csv'))\n",
    "data.extend(idata)\n",
    "target.extend(itarget)\n",
    "idata, itarget = read_process_csv(join(environ[\"DLDATASET_TRAIN\"], 'MobilePhone_train_dataset/doctor_C/label.csv'))\n",
    "data.extend(idata)\n",
    "target.extend(itarget)\n",
    "idata, itarget = read_process_csv(join(environ[\"DLDATASET_TRAIN\"], 'MobilePhone_train_dataset/doctor_D/label.csv'))\n",
    "data.extend(idata)\n",
    "target.extend(itarget)\n",
    "idata, itarget = read_process_csv(join(environ[\"DLDATASET_TRAIN\"], 'MobilePhone_train_dataset/doctor_E/label.csv'))\n",
    "data.extend(idata)\n",
    "target.extend(itarget)\n",
    "idata, itarget = read_process_csv(join(environ[\"DLDATASET_TRAIN\"], 'MobilePhone_train_dataset/doctor_F/label.csv'))\n",
    "data.extend(idata)\n",
    "target.extend(itarget)\n"
   ]
  },
  {
   "cell_type": "code",
   "execution_count": 5,
   "metadata": {},
   "outputs": [
    {
     "data": {
      "text/plain": [
       "21954"
      ]
     },
     "execution_count": 5,
     "metadata": {},
     "output_type": "execute_result"
    }
   ],
   "source": [
    "len(data)"
   ]
  },
  {
   "cell_type": "code",
   "execution_count": 6,
   "metadata": {},
   "outputs": [
    {
     "name": "stdout",
     "output_type": "stream",
     "text": [
      "16482\n",
      "5472\n",
      "5472\n",
      "5472\n",
      "5472\n"
     ]
    }
   ],
   "source": [
    "np_target = np.array(target)\n",
    "np_data = np.array(data)\n",
    "zero_id = np.where(np_target==0)[0]\n",
    "one_id = np.where(np_target==1)[0]\n",
    "\n",
    "zero_data = np_data[zero_id]\n",
    "one_data = np_data[one_id]\n",
    "\n",
    "zero_size = len(zero_data)\n",
    "one_size = len(one_data)\n",
    "\n",
    "print(zero_size)\n",
    "print(one_size)\n",
    "\n",
    "np.random.shuffle(zero_data)\n",
    "\n",
    "down_sample_zero = zero_data[:one_size]\n",
    "print(len(down_sample_zero))\n",
    "\n",
    "balance_data = np.concatenate((down_sample_zero,one_data))\n",
    "balance_label = np.concatenate((np.ones((one_size,),dtype=int)*0,np.ones((one_size,),dtype=int)))\n",
    "\n",
    "print(balance_label.sum())\n",
    "print(len(balance_label)-balance_label.sum())"
   ]
  },
  {
   "cell_type": "code",
   "execution_count": 7,
   "metadata": {},
   "outputs": [],
   "source": [
    "df = pd.DataFrame({'Image_path:':balance_data.tolist(), 'Label:':balance_label.tolist()})\n",
    "# pd.DataFrame({'a':['ce','dd'], 'b':np.arange(2)})\n",
    "df\n",
    "df.to_csv('balance.csv',index=0)"
   ]
  }
 ],
 "metadata": {
  "kernelspec": {
   "display_name": "Python 3.7.11 ('pytorchEnv')",
   "language": "python",
   "name": "python3"
  },
  "language_info": {
   "codemirror_mode": {
    "name": "ipython",
    "version": 3
   },
   "file_extension": ".py",
   "mimetype": "text/x-python",
   "name": "python",
   "nbconvert_exporter": "python",
   "pygments_lexer": "ipython3",
   "version": "3.7.11"
  },
  "orig_nbformat": 4,
  "vscode": {
   "interpreter": {
    "hash": "f441e86c2e75dd33ad4fac23074ee26847d8abe94af0d7f54e1b7ff86003de8b"
   }
  }
 },
 "nbformat": 4,
 "nbformat_minor": 2
}
